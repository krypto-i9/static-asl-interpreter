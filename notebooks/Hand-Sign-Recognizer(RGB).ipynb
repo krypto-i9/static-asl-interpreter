{
 "cells": [
  {
   "cell_type": "markdown",
   "id": "cb5435a8",
   "metadata": {
    "papermill": {
     "duration": 0.016084,
     "end_time": "2021-10-17T14:42:03.889560",
     "exception": false,
     "start_time": "2021-10-17T14:42:03.873476",
     "status": "completed"
    },
    "tags": []
   },
   "source": [
    "# Static ASL Interpreter Using RGB Images"
   ]
  },
  {
   "cell_type": "code",
   "execution_count": 1,
   "id": "e5721086",
   "metadata": {
    "_cell_guid": "b1076dfc-b9ad-4769-8c92-a6c4dae69d19",
    "_uuid": "8f2839f25d086af736a60e9eeb907d3b93b6e0e5",
    "execution": {
     "iopub.execute_input": "2021-10-17T14:42:03.925834Z",
     "iopub.status.busy": "2021-10-17T14:42:03.924500Z",
     "iopub.status.idle": "2021-10-17T14:42:03.928157Z",
     "shell.execute_reply": "2021-10-17T14:42:03.927663Z",
     "shell.execute_reply.started": "2021-10-17T05:59:55.968329Z"
    },
    "papermill": {
     "duration": 0.021959,
     "end_time": "2021-10-17T14:42:03.928283",
     "exception": false,
     "start_time": "2021-10-17T14:42:03.906324",
     "status": "completed"
    },
    "tags": []
   },
   "outputs": [],
   "source": [
    "# Requirements\n",
    "# import numpy as np\n",
    "# import cv2\n",
    "# from matplotlib import pyplot as plt\n",
    "# import torch"
   ]
  },
  {
   "cell_type": "code",
   "execution_count": 2,
   "id": "2894c6df",
   "metadata": {
    "execution": {
     "iopub.execute_input": "2021-10-17T14:42:04.038623Z",
     "iopub.status.busy": "2021-10-17T14:42:04.038047Z",
     "iopub.status.idle": "2021-10-17T14:42:04.230249Z",
     "shell.execute_reply": "2021-10-17T14:42:04.229684Z",
     "shell.execute_reply.started": "2021-10-17T05:59:55.975123Z"
    },
    "papermill": {
     "duration": 0.287942,
     "end_time": "2021-10-17T14:42:04.230450",
     "exception": false,
     "start_time": "2021-10-17T14:42:03.942508",
     "status": "completed"
    },
    "tags": []
   },
   "outputs": [
    {
     "name": "stderr",
     "output_type": "stream",
     "text": [
      "100%|██████████| 28/28 [00:00<00:00, 173.07it/s]\n"
     ]
    }
   ],
   "source": [
    "from tqdm import tqdm\n",
    "import os\n",
    "from shutil import copy\n",
    "\n",
    "for dirname, _, filenames in os.walk('/kaggle/input/asl-alphabet/asl_alphabet_test/asl_alphabet_test/'):\n",
    "    for filename in tqdm(filenames):\n",
    "        src_path = os.path.join(dirname, filename)\n",
    "        label = filename.split('_')[0]\n",
    "        dest_path = os.path.join(\"/kaggle/working/asl_alphabet_test/\", label, filename)\n",
    "        os.makedirs('/kaggle/working/asl_alphabet_test/' + label)\n",
    "        copy(src_path, dest_path)"
   ]
  },
  {
   "cell_type": "code",
   "execution_count": 3,
   "id": "ee6946c8",
   "metadata": {
    "execution": {
     "iopub.execute_input": "2021-10-17T14:42:04.279978Z",
     "iopub.status.busy": "2021-10-17T14:42:04.277160Z",
     "iopub.status.idle": "2021-10-17T14:42:04.282213Z",
     "shell.execute_reply": "2021-10-17T14:42:04.282682Z",
     "shell.execute_reply.started": "2021-10-17T05:59:56.178772Z"
    },
    "papermill": {
     "duration": 0.035627,
     "end_time": "2021-10-17T14:42:04.282814",
     "exception": false,
     "start_time": "2021-10-17T14:42:04.247187",
     "status": "completed"
    },
    "tags": []
   },
   "outputs": [],
   "source": [
    "from enum import Enum\n",
    "\n",
    "class Alphabet(Enum):\n",
    "    A = 0\n",
    "    B = 1\n",
    "    C = 2\n",
    "    D = 3\n",
    "    E = 4\n",
    "    F = 5\n",
    "    G = 6\n",
    "    H = 7\n",
    "    I = 8\n",
    "    J = 9\n",
    "    K = 10\n",
    "    L = 11\n",
    "    M = 12\n",
    "    N = 13\n",
    "    O = 14\n",
    "    P = 15\n",
    "    Q = 16\n",
    "    R = 17\n",
    "    S = 18\n",
    "    T = 19\n",
    "    U = 20\n",
    "    V = 21\n",
    "    W = 22\n",
    "    X = 23\n",
    "    Y = 24\n",
    "    Z = 25\n",
    "    DEL = 26\n",
    "    NOTHING = 27\n",
    "    SPACE = 28"
   ]
  },
  {
   "cell_type": "code",
   "execution_count": 4,
   "id": "9e9b2c0c",
   "metadata": {
    "execution": {
     "iopub.execute_input": "2021-10-17T14:42:04.341227Z",
     "iopub.status.busy": "2021-10-17T14:42:04.338586Z",
     "iopub.status.idle": "2021-10-17T14:42:04.344483Z",
     "shell.execute_reply": "2021-10-17T14:42:04.346746Z",
     "shell.execute_reply.started": "2021-10-17T05:59:56.188482Z"
    },
    "papermill": {
     "duration": 0.037799,
     "end_time": "2021-10-17T14:42:04.347037",
     "exception": false,
     "start_time": "2021-10-17T14:42:04.309238",
     "status": "completed"
    },
    "tags": []
   },
   "outputs": [],
   "source": [
    "# # CONSTANTS\n",
    "# IMG_SIZE = 50"
   ]
  },
  {
   "cell_type": "code",
   "execution_count": 5,
   "id": "c9d48398",
   "metadata": {
    "execution": {
     "iopub.execute_input": "2021-10-17T14:42:04.384015Z",
     "iopub.status.busy": "2021-10-17T14:42:04.383274Z",
     "iopub.status.idle": "2021-10-17T14:42:04.385345Z",
     "shell.execute_reply": "2021-10-17T14:42:04.385753Z",
     "shell.execute_reply.started": "2021-10-17T05:59:56.199348Z"
    },
    "papermill": {
     "duration": 0.02235,
     "end_time": "2021-10-17T14:42:04.385868",
     "exception": false,
     "start_time": "2021-10-17T14:42:04.363518",
     "status": "completed"
    },
    "tags": []
   },
   "outputs": [],
   "source": [
    "# import os\n",
    "# import numpy as np\n",
    "# from tqdm import tqdm\n",
    "# import cv2\n",
    "# import matplotlib.pyplot as plt\n",
    "\n",
    "# class StaticASLRGB():\n",
    "#     TOTAL = 29\n",
    "#     T_TO_V_RATIO = 0.1\n",
    "#     train_count = 0\n",
    "#     validate_count = 0\n",
    "#     t_count = 0\n",
    "#     set = []\n",
    "        \n",
    "#     def make(self):\n",
    "#         self.train_count = 0\n",
    "#         for dirname, _, filenames in os.walk('/kaggle/input/asl-alphabet/asl_alphabet_train/asl_alphabet_train/'):\n",
    "#             label = dirname.split('/')[-1]\n",
    "#             if(label != \"\"):\n",
    "#                 for filename in tqdm(filenames):\n",
    "#                     path = os.path.join(dirname, filename)\n",
    "#                     img = cv2.imread(path)\n",
    "#                     self.train_data.append([np.array(img, dtype=np.uint8), np.eye(29)[Alphabet[label.upper()].value]])\n",
    "#                     self.train_count += 1\n",
    "#             else:\n",
    "#                 pass\n",
    "                    \n",
    "#     def shuffle_training(self):\n",
    "#         shuffled = np.random.shuffle(self.train_data)\n",
    "#         print(\"Shuffle Completed!\")\n",
    "#         print(shuffled)\n",
    "#         return shuffled\n",
    "    \n",
    "#     def print_train_set()"
   ]
  },
  {
   "cell_type": "code",
   "execution_count": 6,
   "id": "5bde6cbb",
   "metadata": {
    "execution": {
     "iopub.execute_input": "2021-10-17T14:42:04.422266Z",
     "iopub.status.busy": "2021-10-17T14:42:04.421481Z",
     "iopub.status.idle": "2021-10-17T14:42:04.423581Z",
     "shell.execute_reply": "2021-10-17T14:42:04.424009Z",
     "shell.execute_reply.started": "2021-10-17T05:59:56.207424Z"
    },
    "papermill": {
     "duration": 0.021364,
     "end_time": "2021-10-17T14:42:04.424208",
     "exception": false,
     "start_time": "2021-10-17T14:42:04.402844",
     "status": "completed"
    },
    "tags": []
   },
   "outputs": [],
   "source": [
    "# staticASLRGB = StaticASLRGB()\n",
    "# # x = staticASLRGB.make_train_data()"
   ]
  },
  {
   "cell_type": "code",
   "execution_count": 7,
   "id": "abef085a",
   "metadata": {
    "execution": {
     "iopub.execute_input": "2021-10-17T14:42:04.475255Z",
     "iopub.status.busy": "2021-10-17T14:42:04.474451Z",
     "iopub.status.idle": "2021-10-17T14:42:44.174654Z",
     "shell.execute_reply": "2021-10-17T14:42:44.175276Z",
     "shell.execute_reply.started": "2021-10-17T05:59:56.220722Z"
    },
    "papermill": {
     "duration": 39.732588,
     "end_time": "2021-10-17T14:42:44.175514",
     "exception": false,
     "start_time": "2021-10-17T14:42:04.442926",
     "status": "completed"
    },
    "tags": []
   },
   "outputs": [],
   "source": [
    "import torch\n",
    "from torchvision import datasets, transforms\n",
    "\n",
    "train_transforms = transforms.Compose([transforms.Resize(224),\n",
    "                                       transforms.RandomRotation(30),\n",
    "#                                        transforms.RandomResizedCrop(224),\n",
    "                                       transforms.RandomHorizontalFlip(),\n",
    "                                       transforms.ToTensor(),\n",
    "                                       transforms.Normalize([0.5, 0.5, 0.5], \n",
    "                                                            [0.5, 0.5, 0.5])])\n",
    "\n",
    "train_dataset = datasets.ImageFolder('/kaggle/input/asl-alphabet/asl_alphabet_train/asl_alphabet_train/', transform=train_transforms)\n",
    "# print(dataset)"
   ]
  },
  {
   "cell_type": "code",
   "execution_count": 8,
   "id": "886c6426",
   "metadata": {
    "execution": {
     "iopub.execute_input": "2021-10-17T14:42:44.235006Z",
     "iopub.status.busy": "2021-10-17T14:42:44.234130Z",
     "iopub.status.idle": "2021-10-17T14:42:44.236337Z",
     "shell.execute_reply": "2021-10-17T14:42:44.235712Z",
     "shell.execute_reply.started": "2021-10-17T06:01:04.441621Z"
    },
    "papermill": {
     "duration": 0.034862,
     "end_time": "2021-10-17T14:42:44.236496",
     "exception": false,
     "start_time": "2021-10-17T14:42:44.201634",
     "status": "completed"
    },
    "tags": []
   },
   "outputs": [],
   "source": [
    "train_dataloader = torch.utils.data.DataLoader(train_dataset, batch_size=64, shuffle=True, num_workers=2, pin_memory=True)"
   ]
  },
  {
   "cell_type": "code",
   "execution_count": 9,
   "id": "9971b6c3",
   "metadata": {
    "execution": {
     "iopub.execute_input": "2021-10-17T14:42:44.286540Z",
     "iopub.status.busy": "2021-10-17T14:42:44.285796Z",
     "iopub.status.idle": "2021-10-17T14:42:44.288600Z",
     "shell.execute_reply": "2021-10-17T14:42:44.289074Z",
     "shell.execute_reply.started": "2021-10-17T08:38:08.019761Z"
    },
    "papermill": {
     "duration": 0.032382,
     "end_time": "2021-10-17T14:42:44.289214",
     "exception": false,
     "start_time": "2021-10-17T14:42:44.256832",
     "status": "completed"
    },
    "tags": []
   },
   "outputs": [],
   "source": [
    "test_transforms = transforms.Compose([transforms.Resize(224),\n",
    "                                      transforms.ToTensor(),\n",
    "                                      transforms.Normalize([0.5, 0.5, 0.5], \n",
    "                                                            [0.5, 0.5, 0.5])\n",
    "                                     ])\n",
    "\n",
    "test_dataset = datasets.ImageFolder('/kaggle/working/asl_alphabet_test/', transform=test_transforms)\n",
    "\n",
    "test_dataloader = torch.utils.data.DataLoader(test_dataset, batch_size=32, shuffle=False)"
   ]
  },
  {
   "cell_type": "code",
   "execution_count": 10,
   "id": "3d7fcf89",
   "metadata": {
    "execution": {
     "iopub.execute_input": "2021-10-17T14:42:44.370764Z",
     "iopub.status.busy": "2021-10-17T14:42:44.370009Z",
     "iopub.status.idle": "2021-10-17T14:42:44.374328Z",
     "shell.execute_reply": "2021-10-17T14:42:44.375016Z",
     "shell.execute_reply.started": "2021-10-17T06:01:04.459595Z"
    },
    "papermill": {
     "duration": 0.069858,
     "end_time": "2021-10-17T14:42:44.375142",
     "exception": false,
     "start_time": "2021-10-17T14:42:44.305284",
     "status": "completed"
    },
    "tags": []
   },
   "outputs": [
    {
     "name": "stdout",
     "output_type": "stream",
     "text": [
      "Executing on: cuda:0\n"
     ]
    }
   ],
   "source": [
    "DEVICE = torch.device(\"cuda:0\" if torch.cuda.is_available() else \"cpu\")\n",
    "print(\"Executing on: {}\".format(DEVICE))"
   ]
  },
  {
   "cell_type": "code",
   "execution_count": 11,
   "id": "3c412d26",
   "metadata": {
    "execution": {
     "iopub.execute_input": "2021-10-17T14:42:44.413240Z",
     "iopub.status.busy": "2021-10-17T14:42:44.412652Z",
     "iopub.status.idle": "2021-10-17T14:42:51.444561Z",
     "shell.execute_reply": "2021-10-17T14:42:51.444068Z",
     "shell.execute_reply.started": "2021-10-17T06:01:04.527491Z"
    },
    "papermill": {
     "duration": 7.053586,
     "end_time": "2021-10-17T14:42:51.444703",
     "exception": false,
     "start_time": "2021-10-17T14:42:44.391117",
     "status": "completed"
    },
    "tags": []
   },
   "outputs": [
    {
     "name": "stdout",
     "output_type": "stream",
     "text": [
      "torch.Size([64, 3, 224, 224])\n"
     ]
    }
   ],
   "source": [
    "IMG_SIZE = None\n",
    "for image, label in train_dataloader:\n",
    "    IMG_SIZE = image.shape\n",
    "    print(IMG_SIZE)\n",
    "    break"
   ]
  },
  {
   "cell_type": "code",
   "execution_count": 12,
   "id": "85323e67",
   "metadata": {
    "execution": {
     "iopub.execute_input": "2021-10-17T14:42:51.490063Z",
     "iopub.status.busy": "2021-10-17T14:42:51.489406Z",
     "iopub.status.idle": "2021-10-17T14:42:51.689400Z",
     "shell.execute_reply": "2021-10-17T14:42:51.689892Z",
     "shell.execute_reply.started": "2021-10-17T06:38:48.91392Z"
    },
    "papermill": {
     "duration": 0.228706,
     "end_time": "2021-10-17T14:42:51.690062",
     "exception": false,
     "start_time": "2021-10-17T14:42:51.461356",
     "status": "completed"
    },
    "tags": []
   },
   "outputs": [
    {
     "name": "stdout",
     "output_type": "stream",
     "text": [
      "Net(\n",
      "  (conv1): Conv2d(3, 64, kernel_size=(3, 3), stride=(1, 1))\n",
      "  (conv2): Conv2d(64, 128, kernel_size=(3, 3), stride=(1, 1))\n",
      "  (conv3): Conv2d(128, 256, kernel_size=(3, 3), stride=(1, 1))\n",
      "  (conv4): Conv2d(256, 512, kernel_size=(3, 3), stride=(1, 1))\n",
      "  (fc1): Linear(in_features=73728, out_features=29, bias=True)\n",
      ")\n"
     ]
    }
   ],
   "source": [
    "import torch.nn as nn\n",
    "import torch.nn.functional as F\n",
    "\n",
    "class Net(nn.Module):\n",
    "    _to_linear = None\n",
    "    def __init__(self):\n",
    "        super(Net, self).__init__()\n",
    "        \n",
    "        # define NET\n",
    "        self.conv1 = nn.Conv2d(3, 64, 3)\n",
    "        self.conv2 = nn.Conv2d(64, 128, 3)\n",
    "        self.conv3 = nn.Conv2d(128, 256, 3)\n",
    "        self.conv4 = nn.Conv2d(256, 512, 3)\n",
    "        \n",
    "        x = torch.randn(1, IMG_SIZE[1], IMG_SIZE[2], IMG_SIZE[3])\n",
    "        self._to_linear = None\n",
    "        self.convs(x)\n",
    "        \n",
    "        self.fc1 = nn.Linear(self._to_linear, 29)\n",
    "#         self.fc2 = nn.Linear(4048, 1024)\n",
    "#         self.fc3 = nn.Linear(1024, 29)\n",
    "        \n",
    "        \n",
    "    \n",
    "    def convs(self, x):\n",
    "        x = F.max_pool2d(F.relu(self.conv1(x)), (2, 2))\n",
    "        x = F.max_pool2d(F.relu(self.conv2(x)), (2, 2))\n",
    "        x = F.max_pool2d(F.relu(self.conv3(x)), (2, 2))\n",
    "        x = F.max_pool2d(F.relu(self.conv4(x)), (2,2))\n",
    "                              \n",
    "        if self._to_linear is None:\n",
    "            self._to_linear = x[0].shape[0] * x[0].shape[1] * x[0].shape[2]\n",
    "        return x\n",
    "    \n",
    "    def forward(self, x):\n",
    "        x = self.convs(x)\n",
    "        \n",
    "        x = torch.flatten(x, 1)\n",
    "#         x = F.relu(self.fc1(x))\n",
    "#         x = F.relu(self.fc2(x))\n",
    "        x = F.softmax(self.fc1(x), dim=1)\n",
    "        return x\n",
    "    \n",
    "net = Net()\n",
    "net.to(DEVICE)\n",
    "print(net)"
   ]
  },
  {
   "cell_type": "code",
   "execution_count": 13,
   "id": "7a0e2d6e",
   "metadata": {
    "execution": {
     "iopub.execute_input": "2021-10-17T14:42:51.728485Z",
     "iopub.status.busy": "2021-10-17T14:42:51.727742Z",
     "iopub.status.idle": "2021-10-17T14:42:51.729823Z",
     "shell.execute_reply": "2021-10-17T14:42:51.730284Z",
     "shell.execute_reply.started": "2021-10-17T06:39:03.613793Z"
    },
    "papermill": {
     "duration": 0.023539,
     "end_time": "2021-10-17T14:42:51.730424",
     "exception": false,
     "start_time": "2021-10-17T14:42:51.706885",
     "status": "completed"
    },
    "tags": []
   },
   "outputs": [],
   "source": [
    "import torch.optim as optim\n",
    "\n",
    "LR = 1e-4\n",
    "loss_func = nn.CrossEntropyLoss()\n",
    "optimizer = optim.AdamW(net.parameters(), lr=LR)"
   ]
  },
  {
   "cell_type": "code",
   "execution_count": 14,
   "id": "9b287348",
   "metadata": {
    "execution": {
     "iopub.execute_input": "2021-10-17T14:42:51.769150Z",
     "iopub.status.busy": "2021-10-17T14:42:51.768271Z",
     "iopub.status.idle": "2021-10-17T14:42:51.770562Z",
     "shell.execute_reply": "2021-10-17T14:42:51.771011Z",
     "shell.execute_reply.started": "2021-10-17T06:01:14.175737Z"
    },
    "papermill": {
     "duration": 0.024475,
     "end_time": "2021-10-17T14:42:51.771122",
     "exception": false,
     "start_time": "2021-10-17T14:42:51.746647",
     "status": "completed"
    },
    "tags": []
   },
   "outputs": [],
   "source": [
    "def count(outputs, labels):\n",
    "    _, predicted = torch.max(outputs.data, 1)\n",
    "    total = labels.size(0)\n",
    "    correct = (predicted == labels).sum().item()\n",
    "    return [total, correct]\n",
    "\n",
    "def print_count(total, correct):\n",
    "    print('Total   : {}'.format(total))\n",
    "    print('Correct : {}'.format(correct))\n",
    "    print('Accuracy:  %.3f' %(100 * correct / total))"
   ]
  },
  {
   "cell_type": "code",
   "execution_count": 15,
   "id": "75ff2750",
   "metadata": {
    "execution": {
     "iopub.execute_input": "2021-10-17T14:42:51.812634Z",
     "iopub.status.busy": "2021-10-17T14:42:51.811837Z",
     "iopub.status.idle": "2021-10-17T14:42:51.814292Z",
     "shell.execute_reply": "2021-10-17T14:42:51.814795Z",
     "shell.execute_reply.started": "2021-10-17T06:39:11.933715Z"
    },
    "papermill": {
     "duration": 0.027447,
     "end_time": "2021-10-17T14:42:51.814939",
     "exception": false,
     "start_time": "2021-10-17T14:42:51.787492",
     "status": "completed"
    },
    "tags": []
   },
   "outputs": [],
   "source": [
    "def train(net,dataloader, loss_fun, optimizer, epochs=10, info=False):\n",
    "    total, correct = 0, 0\n",
    "    for epoch in range(epochs):\n",
    "        running_loss = 0.0\n",
    "        for i, data in enumerate(tqdm(dataloader)):\n",
    "            inputs, labels = data[0].to(DEVICE), data[1].to(DEVICE)\n",
    "            optimizer.zero_grad()\n",
    "            outputs = net(inputs)\n",
    "            loss = loss_func(outputs, labels)\n",
    "            loss.backward()\n",
    "            optimizer.step()\n",
    "            \n",
    "            running_loss += loss.item()\n",
    "            c = count(outputs, labels)\n",
    "            total += c[0]\n",
    "            correct += c[1]\n",
    "        if(info):\n",
    "            print('[epoch: %d] loss: %.3f%%' %(epoch + 1, running_loss))\n",
    "            print_count(total, correct)\n",
    "            running_loss = 0.0\n",
    "            total, correct = 0, 0\n",
    "\n",
    "    print(\"Training Completed...\")"
   ]
  },
  {
   "cell_type": "code",
   "execution_count": 16,
   "id": "cba5a624",
   "metadata": {
    "execution": {
     "iopub.execute_input": "2021-10-17T14:42:51.854221Z",
     "iopub.status.busy": "2021-10-17T14:42:51.853365Z",
     "iopub.status.idle": "2021-10-17T20:17:39.438506Z",
     "shell.execute_reply": "2021-10-17T20:17:39.438051Z",
     "shell.execute_reply.started": "2021-10-17T06:50:05.943745Z"
    },
    "papermill": {
     "duration": 20087.605925,
     "end_time": "2021-10-17T20:17:39.438645",
     "exception": false,
     "start_time": "2021-10-17T14:42:51.832720",
     "status": "completed"
    },
    "tags": []
   },
   "outputs": [
    {
     "name": "stderr",
     "output_type": "stream",
     "text": [
      "100%|██████████| 1360/1360 [07:16<00:00,  3.12it/s]\n"
     ]
    },
    {
     "name": "stdout",
     "output_type": "stream",
     "text": [
      "[epoch: 1] loss: 4404.215%\n",
      "Total   : 87000\n",
      "Correct : 16085\n",
      "Accuracy:  18.489\n"
     ]
    },
    {
     "name": "stderr",
     "output_type": "stream",
     "text": [
      "100%|██████████| 1360/1360 [05:19<00:00,  4.26it/s]\n"
     ]
    },
    {
     "name": "stdout",
     "output_type": "stream",
     "text": [
      "[epoch: 2] loss: 4112.126%\n",
      "Total   : 87000\n",
      "Correct : 35081\n",
      "Accuracy:  40.323\n"
     ]
    },
    {
     "name": "stderr",
     "output_type": "stream",
     "text": [
      "100%|██████████| 1360/1360 [05:22<00:00,  4.21it/s]\n"
     ]
    },
    {
     "name": "stdout",
     "output_type": "stream",
     "text": [
      "[epoch: 3] loss: 3967.285%\n",
      "Total   : 87000\n",
      "Correct : 44367\n",
      "Accuracy:  50.997\n"
     ]
    },
    {
     "name": "stderr",
     "output_type": "stream",
     "text": [
      "100%|██████████| 1360/1360 [05:23<00:00,  4.20it/s]\n"
     ]
    },
    {
     "name": "stdout",
     "output_type": "stream",
     "text": [
      "[epoch: 4] loss: 3862.409%\n",
      "Total   : 87000\n",
      "Correct : 51062\n",
      "Accuracy:  58.692\n"
     ]
    },
    {
     "name": "stderr",
     "output_type": "stream",
     "text": [
      "100%|██████████| 1360/1360 [05:25<00:00,  4.18it/s]\n"
     ]
    },
    {
     "name": "stdout",
     "output_type": "stream",
     "text": [
      "[epoch: 5] loss: 3767.457%\n",
      "Total   : 87000\n",
      "Correct : 57151\n",
      "Accuracy:  65.691\n"
     ]
    },
    {
     "name": "stderr",
     "output_type": "stream",
     "text": [
      "100%|██████████| 1360/1360 [05:26<00:00,  4.16it/s]\n"
     ]
    },
    {
     "name": "stdout",
     "output_type": "stream",
     "text": [
      "[epoch: 6] loss: 3715.458%\n",
      "Total   : 87000\n",
      "Correct : 60456\n",
      "Accuracy:  69.490\n"
     ]
    },
    {
     "name": "stderr",
     "output_type": "stream",
     "text": [
      "100%|██████████| 1360/1360 [05:30<00:00,  4.12it/s]\n"
     ]
    },
    {
     "name": "stdout",
     "output_type": "stream",
     "text": [
      "[epoch: 7] loss: 3658.771%\n",
      "Total   : 87000\n",
      "Correct : 64112\n",
      "Accuracy:  73.692\n"
     ]
    },
    {
     "name": "stderr",
     "output_type": "stream",
     "text": [
      "100%|██████████| 1360/1360 [05:32<00:00,  4.08it/s]\n"
     ]
    },
    {
     "name": "stdout",
     "output_type": "stream",
     "text": [
      "[epoch: 8] loss: 3613.554%\n",
      "Total   : 87000\n",
      "Correct : 66989\n",
      "Accuracy:  76.999\n"
     ]
    },
    {
     "name": "stderr",
     "output_type": "stream",
     "text": [
      "100%|██████████| 1360/1360 [05:25<00:00,  4.18it/s]\n"
     ]
    },
    {
     "name": "stdout",
     "output_type": "stream",
     "text": [
      "[epoch: 9] loss: 3568.734%\n",
      "Total   : 87000\n",
      "Correct : 69863\n",
      "Accuracy:  80.302\n"
     ]
    },
    {
     "name": "stderr",
     "output_type": "stream",
     "text": [
      "100%|██████████| 1360/1360 [05:35<00:00,  4.05it/s]\n"
     ]
    },
    {
     "name": "stdout",
     "output_type": "stream",
     "text": [
      "[epoch: 10] loss: 3531.203%\n",
      "Total   : 87000\n",
      "Correct : 72244\n",
      "Accuracy:  83.039\n"
     ]
    },
    {
     "name": "stderr",
     "output_type": "stream",
     "text": [
      "100%|██████████| 1360/1360 [05:30<00:00,  4.12it/s]\n"
     ]
    },
    {
     "name": "stdout",
     "output_type": "stream",
     "text": [
      "[epoch: 11] loss: 3503.778%\n",
      "Total   : 87000\n",
      "Correct : 74005\n",
      "Accuracy:  85.063\n"
     ]
    },
    {
     "name": "stderr",
     "output_type": "stream",
     "text": [
      "100%|██████████| 1360/1360 [05:30<00:00,  4.11it/s]\n"
     ]
    },
    {
     "name": "stdout",
     "output_type": "stream",
     "text": [
      "[epoch: 12] loss: 3487.859%\n",
      "Total   : 87000\n",
      "Correct : 75003\n",
      "Accuracy:  86.210\n"
     ]
    },
    {
     "name": "stderr",
     "output_type": "stream",
     "text": [
      "100%|██████████| 1360/1360 [05:27<00:00,  4.15it/s]\n"
     ]
    },
    {
     "name": "stdout",
     "output_type": "stream",
     "text": [
      "[epoch: 13] loss: 3479.414%\n",
      "Total   : 87000\n",
      "Correct : 75503\n",
      "Accuracy:  86.785\n"
     ]
    },
    {
     "name": "stderr",
     "output_type": "stream",
     "text": [
      "100%|██████████| 1360/1360 [05:31<00:00,  4.10it/s]\n"
     ]
    },
    {
     "name": "stdout",
     "output_type": "stream",
     "text": [
      "[epoch: 14] loss: 3476.297%\n",
      "Total   : 87000\n",
      "Correct : 75691\n",
      "Accuracy:  87.001\n"
     ]
    },
    {
     "name": "stderr",
     "output_type": "stream",
     "text": [
      "100%|██████████| 1360/1360 [05:31<00:00,  4.10it/s]\n"
     ]
    },
    {
     "name": "stdout",
     "output_type": "stream",
     "text": [
      "[epoch: 15] loss: 3472.553%\n",
      "Total   : 87000\n",
      "Correct : 75884\n",
      "Accuracy:  87.223\n"
     ]
    },
    {
     "name": "stderr",
     "output_type": "stream",
     "text": [
      "100%|██████████| 1360/1360 [05:45<00:00,  3.93it/s]\n"
     ]
    },
    {
     "name": "stdout",
     "output_type": "stream",
     "text": [
      "[epoch: 16] loss: 3469.947%\n",
      "Total   : 87000\n",
      "Correct : 76033\n",
      "Accuracy:  87.394\n"
     ]
    },
    {
     "name": "stderr",
     "output_type": "stream",
     "text": [
      "100%|██████████| 1360/1360 [05:45<00:00,  3.94it/s]\n"
     ]
    },
    {
     "name": "stdout",
     "output_type": "stream",
     "text": [
      "[epoch: 17] loss: 3457.270%\n",
      "Total   : 87000\n",
      "Correct : 76876\n",
      "Accuracy:  88.363\n"
     ]
    },
    {
     "name": "stderr",
     "output_type": "stream",
     "text": [
      "100%|██████████| 1360/1360 [05:39<00:00,  4.00it/s]\n"
     ]
    },
    {
     "name": "stdout",
     "output_type": "stream",
     "text": [
      "[epoch: 18] loss: 3422.132%\n",
      "Total   : 87000\n",
      "Correct : 79135\n",
      "Accuracy:  90.960\n"
     ]
    },
    {
     "name": "stderr",
     "output_type": "stream",
     "text": [
      "100%|██████████| 1360/1360 [05:35<00:00,  4.05it/s]\n"
     ]
    },
    {
     "name": "stdout",
     "output_type": "stream",
     "text": [
      "[epoch: 19] loss: 3404.779%\n",
      "Total   : 87000\n",
      "Correct : 80226\n",
      "Accuracy:  92.214\n"
     ]
    },
    {
     "name": "stderr",
     "output_type": "stream",
     "text": [
      "100%|██████████| 1360/1360 [05:42<00:00,  3.98it/s]\n"
     ]
    },
    {
     "name": "stdout",
     "output_type": "stream",
     "text": [
      "[epoch: 20] loss: 3396.874%\n",
      "Total   : 87000\n",
      "Correct : 80746\n",
      "Accuracy:  92.811\n"
     ]
    },
    {
     "name": "stderr",
     "output_type": "stream",
     "text": [
      "100%|██████████| 1360/1360 [05:41<00:00,  3.98it/s]\n"
     ]
    },
    {
     "name": "stdout",
     "output_type": "stream",
     "text": [
      "[epoch: 21] loss: 3390.214%\n",
      "Total   : 87000\n",
      "Correct : 81146\n",
      "Accuracy:  93.271\n"
     ]
    },
    {
     "name": "stderr",
     "output_type": "stream",
     "text": [
      "100%|██████████| 1360/1360 [05:42<00:00,  3.97it/s]\n"
     ]
    },
    {
     "name": "stdout",
     "output_type": "stream",
     "text": [
      "[epoch: 22] loss: 3383.686%\n",
      "Total   : 87000\n",
      "Correct : 81569\n",
      "Accuracy:  93.757\n"
     ]
    },
    {
     "name": "stderr",
     "output_type": "stream",
     "text": [
      "100%|██████████| 1360/1360 [05:45<00:00,  3.93it/s]\n"
     ]
    },
    {
     "name": "stdout",
     "output_type": "stream",
     "text": [
      "[epoch: 23] loss: 3380.931%\n",
      "Total   : 87000\n",
      "Correct : 81737\n",
      "Accuracy:  93.951\n"
     ]
    },
    {
     "name": "stderr",
     "output_type": "stream",
     "text": [
      "100%|██████████| 1360/1360 [05:36<00:00,  4.04it/s]\n"
     ]
    },
    {
     "name": "stdout",
     "output_type": "stream",
     "text": [
      "[epoch: 24] loss: 3381.180%\n",
      "Total   : 87000\n",
      "Correct : 81724\n",
      "Accuracy:  93.936\n"
     ]
    },
    {
     "name": "stderr",
     "output_type": "stream",
     "text": [
      "100%|██████████| 1360/1360 [05:33<00:00,  4.08it/s]\n"
     ]
    },
    {
     "name": "stdout",
     "output_type": "stream",
     "text": [
      "[epoch: 25] loss: 3379.409%\n",
      "Total   : 87000\n",
      "Correct : 81820\n",
      "Accuracy:  94.046\n"
     ]
    },
    {
     "name": "stderr",
     "output_type": "stream",
     "text": [
      "100%|██████████| 1360/1360 [05:28<00:00,  4.14it/s]\n"
     ]
    },
    {
     "name": "stdout",
     "output_type": "stream",
     "text": [
      "[epoch: 26] loss: 3378.843%\n",
      "Total   : 87000\n",
      "Correct : 81849\n",
      "Accuracy:  94.079\n"
     ]
    },
    {
     "name": "stderr",
     "output_type": "stream",
     "text": [
      "100%|██████████| 1360/1360 [05:28<00:00,  4.14it/s]\n"
     ]
    },
    {
     "name": "stdout",
     "output_type": "stream",
     "text": [
      "[epoch: 27] loss: 3378.729%\n",
      "Total   : 87000\n",
      "Correct : 81865\n",
      "Accuracy:  94.098\n"
     ]
    },
    {
     "name": "stderr",
     "output_type": "stream",
     "text": [
      "100%|██████████| 1360/1360 [05:34<00:00,  4.07it/s]\n"
     ]
    },
    {
     "name": "stdout",
     "output_type": "stream",
     "text": [
      "[epoch: 28] loss: 3377.487%\n",
      "Total   : 87000\n",
      "Correct : 81940\n",
      "Accuracy:  94.184\n"
     ]
    },
    {
     "name": "stderr",
     "output_type": "stream",
     "text": [
      "100%|██████████| 1360/1360 [05:31<00:00,  4.10it/s]\n"
     ]
    },
    {
     "name": "stdout",
     "output_type": "stream",
     "text": [
      "[epoch: 29] loss: 3376.448%\n",
      "Total   : 87000\n",
      "Correct : 82011\n",
      "Accuracy:  94.266\n"
     ]
    },
    {
     "name": "stderr",
     "output_type": "stream",
     "text": [
      "100%|██████████| 1360/1360 [05:35<00:00,  4.05it/s]\n"
     ]
    },
    {
     "name": "stdout",
     "output_type": "stream",
     "text": [
      "[epoch: 30] loss: 3375.994%\n",
      "Total   : 87000\n",
      "Correct : 82037\n",
      "Accuracy:  94.295\n"
     ]
    },
    {
     "name": "stderr",
     "output_type": "stream",
     "text": [
      "100%|██████████| 1360/1360 [05:52<00:00,  3.86it/s]\n"
     ]
    },
    {
     "name": "stdout",
     "output_type": "stream",
     "text": [
      "[epoch: 31] loss: 3371.198%\n",
      "Total   : 87000\n",
      "Correct : 82336\n",
      "Accuracy:  94.639\n"
     ]
    },
    {
     "name": "stderr",
     "output_type": "stream",
     "text": [
      "100%|██████████| 1360/1360 [05:42<00:00,  3.97it/s]\n"
     ]
    },
    {
     "name": "stdout",
     "output_type": "stream",
     "text": [
      "[epoch: 32] loss: 3371.022%\n",
      "Total   : 87000\n",
      "Correct : 82322\n",
      "Accuracy:  94.623\n"
     ]
    },
    {
     "name": "stderr",
     "output_type": "stream",
     "text": [
      "100%|██████████| 1360/1360 [05:36<00:00,  4.05it/s]\n"
     ]
    },
    {
     "name": "stdout",
     "output_type": "stream",
     "text": [
      "[epoch: 33] loss: 3369.390%\n",
      "Total   : 87000\n",
      "Correct : 82447\n",
      "Accuracy:  94.767\n"
     ]
    },
    {
     "name": "stderr",
     "output_type": "stream",
     "text": [
      "100%|██████████| 1360/1360 [05:25<00:00,  4.18it/s]\n"
     ]
    },
    {
     "name": "stdout",
     "output_type": "stream",
     "text": [
      "[epoch: 34] loss: 3368.642%\n",
      "Total   : 87000\n",
      "Correct : 82491\n",
      "Accuracy:  94.817\n"
     ]
    },
    {
     "name": "stderr",
     "output_type": "stream",
     "text": [
      "100%|██████████| 1360/1360 [05:39<00:00,  4.00it/s]\n"
     ]
    },
    {
     "name": "stdout",
     "output_type": "stream",
     "text": [
      "[epoch: 35] loss: 3367.418%\n",
      "Total   : 87000\n",
      "Correct : 82573\n",
      "Accuracy:  94.911\n"
     ]
    },
    {
     "name": "stderr",
     "output_type": "stream",
     "text": [
      "100%|██████████| 1360/1360 [05:30<00:00,  4.11it/s]\n"
     ]
    },
    {
     "name": "stdout",
     "output_type": "stream",
     "text": [
      "[epoch: 36] loss: 3368.421%\n",
      "Total   : 87000\n",
      "Correct : 82504\n",
      "Accuracy:  94.832\n"
     ]
    },
    {
     "name": "stderr",
     "output_type": "stream",
     "text": [
      "100%|██████████| 1360/1360 [05:26<00:00,  4.16it/s]\n"
     ]
    },
    {
     "name": "stdout",
     "output_type": "stream",
     "text": [
      "[epoch: 37] loss: 3367.435%\n",
      "Total   : 87000\n",
      "Correct : 82568\n",
      "Accuracy:  94.906\n"
     ]
    },
    {
     "name": "stderr",
     "output_type": "stream",
     "text": [
      "100%|██████████| 1360/1360 [05:29<00:00,  4.13it/s]\n"
     ]
    },
    {
     "name": "stdout",
     "output_type": "stream",
     "text": [
      "[epoch: 38] loss: 3367.612%\n",
      "Total   : 87000\n",
      "Correct : 82552\n",
      "Accuracy:  94.887\n"
     ]
    },
    {
     "name": "stderr",
     "output_type": "stream",
     "text": [
      "100%|██████████| 1360/1360 [05:34<00:00,  4.07it/s]\n"
     ]
    },
    {
     "name": "stdout",
     "output_type": "stream",
     "text": [
      "[epoch: 39] loss: 3365.660%\n",
      "Total   : 87000\n",
      "Correct : 82675\n",
      "Accuracy:  95.029\n"
     ]
    },
    {
     "name": "stderr",
     "output_type": "stream",
     "text": [
      "100%|██████████| 1360/1360 [05:29<00:00,  4.12it/s]\n"
     ]
    },
    {
     "name": "stdout",
     "output_type": "stream",
     "text": [
      "[epoch: 40] loss: 3363.563%\n",
      "Total   : 87000\n",
      "Correct : 82816\n",
      "Accuracy:  95.191\n"
     ]
    },
    {
     "name": "stderr",
     "output_type": "stream",
     "text": [
      "100%|██████████| 1360/1360 [05:25<00:00,  4.18it/s]\n"
     ]
    },
    {
     "name": "stdout",
     "output_type": "stream",
     "text": [
      "[epoch: 41] loss: 3359.929%\n",
      "Total   : 87000\n",
      "Correct : 83051\n",
      "Accuracy:  95.461\n"
     ]
    },
    {
     "name": "stderr",
     "output_type": "stream",
     "text": [
      "100%|██████████| 1360/1360 [05:25<00:00,  4.17it/s]\n"
     ]
    },
    {
     "name": "stdout",
     "output_type": "stream",
     "text": [
      "[epoch: 42] loss: 3360.284%\n",
      "Total   : 87000\n",
      "Correct : 83029\n",
      "Accuracy:  95.436\n"
     ]
    },
    {
     "name": "stderr",
     "output_type": "stream",
     "text": [
      "100%|██████████| 1360/1360 [05:26<00:00,  4.17it/s]\n"
     ]
    },
    {
     "name": "stdout",
     "output_type": "stream",
     "text": [
      "[epoch: 43] loss: 3359.754%\n",
      "Total   : 87000\n",
      "Correct : 83061\n",
      "Accuracy:  95.472\n"
     ]
    },
    {
     "name": "stderr",
     "output_type": "stream",
     "text": [
      "100%|██████████| 1360/1360 [05:27<00:00,  4.15it/s]\n"
     ]
    },
    {
     "name": "stdout",
     "output_type": "stream",
     "text": [
      "[epoch: 44] loss: 3358.055%\n",
      "Total   : 87000\n",
      "Correct : 83160\n",
      "Accuracy:  95.586\n"
     ]
    },
    {
     "name": "stderr",
     "output_type": "stream",
     "text": [
      "100%|██████████| 1360/1360 [05:45<00:00,  3.93it/s]\n"
     ]
    },
    {
     "name": "stdout",
     "output_type": "stream",
     "text": [
      "[epoch: 45] loss: 3359.388%\n",
      "Total   : 87000\n",
      "Correct : 83068\n",
      "Accuracy:  95.480\n"
     ]
    },
    {
     "name": "stderr",
     "output_type": "stream",
     "text": [
      "100%|██████████| 1360/1360 [05:36<00:00,  4.04it/s]\n"
     ]
    },
    {
     "name": "stdout",
     "output_type": "stream",
     "text": [
      "[epoch: 46] loss: 3357.995%\n",
      "Total   : 87000\n",
      "Correct : 83162\n",
      "Accuracy:  95.589\n"
     ]
    },
    {
     "name": "stderr",
     "output_type": "stream",
     "text": [
      "100%|██████████| 1360/1360 [05:38<00:00,  4.02it/s]\n"
     ]
    },
    {
     "name": "stdout",
     "output_type": "stream",
     "text": [
      "[epoch: 47] loss: 3356.932%\n",
      "Total   : 87000\n",
      "Correct : 83218\n",
      "Accuracy:  95.653\n"
     ]
    },
    {
     "name": "stderr",
     "output_type": "stream",
     "text": [
      "100%|██████████| 1360/1360 [05:38<00:00,  4.02it/s]\n"
     ]
    },
    {
     "name": "stdout",
     "output_type": "stream",
     "text": [
      "[epoch: 48] loss: 3348.216%\n",
      "Total   : 87000\n",
      "Correct : 83794\n",
      "Accuracy:  96.315\n"
     ]
    },
    {
     "name": "stderr",
     "output_type": "stream",
     "text": [
      "100%|██████████| 1360/1360 [05:38<00:00,  4.01it/s]\n"
     ]
    },
    {
     "name": "stdout",
     "output_type": "stream",
     "text": [
      "[epoch: 49] loss: 3327.983%\n",
      "Total   : 87000\n",
      "Correct : 85088\n",
      "Accuracy:  97.802\n"
     ]
    },
    {
     "name": "stderr",
     "output_type": "stream",
     "text": [
      "100%|██████████| 1360/1360 [05:34<00:00,  4.07it/s]\n"
     ]
    },
    {
     "name": "stdout",
     "output_type": "stream",
     "text": [
      "[epoch: 50] loss: 3319.097%\n",
      "Total   : 87000\n",
      "Correct : 85661\n",
      "Accuracy:  98.461\n"
     ]
    },
    {
     "name": "stderr",
     "output_type": "stream",
     "text": [
      "100%|██████████| 1360/1360 [05:25<00:00,  4.17it/s]\n"
     ]
    },
    {
     "name": "stdout",
     "output_type": "stream",
     "text": [
      "[epoch: 51] loss: 3315.915%\n",
      "Total   : 87000\n",
      "Correct : 85854\n",
      "Accuracy:  98.683\n"
     ]
    },
    {
     "name": "stderr",
     "output_type": "stream",
     "text": [
      "100%|██████████| 1360/1360 [05:29<00:00,  4.13it/s]\n"
     ]
    },
    {
     "name": "stdout",
     "output_type": "stream",
     "text": [
      "[epoch: 52] loss: 3314.959%\n",
      "Total   : 87000\n",
      "Correct : 85919\n",
      "Accuracy:  98.757\n"
     ]
    },
    {
     "name": "stderr",
     "output_type": "stream",
     "text": [
      "100%|██████████| 1360/1360 [05:35<00:00,  4.05it/s]\n"
     ]
    },
    {
     "name": "stdout",
     "output_type": "stream",
     "text": [
      "[epoch: 53] loss: 3314.218%\n",
      "Total   : 87000\n",
      "Correct : 85961\n",
      "Accuracy:  98.806\n"
     ]
    },
    {
     "name": "stderr",
     "output_type": "stream",
     "text": [
      "100%|██████████| 1360/1360 [05:26<00:00,  4.17it/s]\n"
     ]
    },
    {
     "name": "stdout",
     "output_type": "stream",
     "text": [
      "[epoch: 54] loss: 3312.821%\n",
      "Total   : 87000\n",
      "Correct : 86054\n",
      "Accuracy:  98.913\n"
     ]
    },
    {
     "name": "stderr",
     "output_type": "stream",
     "text": [
      "100%|██████████| 1360/1360 [05:27<00:00,  4.16it/s]\n"
     ]
    },
    {
     "name": "stdout",
     "output_type": "stream",
     "text": [
      "[epoch: 55] loss: 3313.621%\n",
      "Total   : 87000\n",
      "Correct : 85994\n",
      "Accuracy:  98.844\n"
     ]
    },
    {
     "name": "stderr",
     "output_type": "stream",
     "text": [
      "100%|██████████| 1360/1360 [05:37<00:00,  4.03it/s]\n"
     ]
    },
    {
     "name": "stdout",
     "output_type": "stream",
     "text": [
      "[epoch: 56] loss: 3312.887%\n",
      "Total   : 87000\n",
      "Correct : 86046\n",
      "Accuracy:  98.903\n"
     ]
    },
    {
     "name": "stderr",
     "output_type": "stream",
     "text": [
      "100%|██████████| 1360/1360 [05:35<00:00,  4.05it/s]\n"
     ]
    },
    {
     "name": "stdout",
     "output_type": "stream",
     "text": [
      "[epoch: 57] loss: 3312.713%\n",
      "Total   : 87000\n",
      "Correct : 86055\n",
      "Accuracy:  98.914\n"
     ]
    },
    {
     "name": "stderr",
     "output_type": "stream",
     "text": [
      "100%|██████████| 1360/1360 [05:28<00:00,  4.14it/s]\n"
     ]
    },
    {
     "name": "stdout",
     "output_type": "stream",
     "text": [
      "[epoch: 58] loss: 3311.187%\n",
      "Total   : 87000\n",
      "Correct : 86157\n",
      "Accuracy:  99.031\n"
     ]
    },
    {
     "name": "stderr",
     "output_type": "stream",
     "text": [
      "100%|██████████| 1360/1360 [05:29<00:00,  4.13it/s]\n"
     ]
    },
    {
     "name": "stdout",
     "output_type": "stream",
     "text": [
      "[epoch: 59] loss: 3312.917%\n",
      "Total   : 87000\n",
      "Correct : 86041\n",
      "Accuracy:  98.898\n"
     ]
    },
    {
     "name": "stderr",
     "output_type": "stream",
     "text": [
      "100%|██████████| 1360/1360 [05:29<00:00,  4.13it/s]"
     ]
    },
    {
     "name": "stdout",
     "output_type": "stream",
     "text": [
      "[epoch: 60] loss: 3311.083%\n",
      "Total   : 87000\n",
      "Correct : 86168\n",
      "Accuracy:  99.044\n",
      "Training Completed...\n"
     ]
    },
    {
     "name": "stderr",
     "output_type": "stream",
     "text": [
      "\n"
     ]
    }
   ],
   "source": [
    "train(net, train_dataloader, loss_func, optimizer, 60, True)"
   ]
  },
  {
   "cell_type": "code",
   "execution_count": 17,
   "id": "c87b2ed4",
   "metadata": {
    "execution": {
     "iopub.execute_input": "2021-10-17T20:18:23.128191Z",
     "iopub.status.busy": "2021-10-17T20:18:23.127662Z",
     "iopub.status.idle": "2021-10-17T20:18:23.174970Z",
     "shell.execute_reply": "2021-10-17T20:18:23.173980Z",
     "shell.execute_reply.started": "2021-10-17T08:33:57.269157Z"
    },
    "papermill": {
     "duration": 21.670912,
     "end_time": "2021-10-17T20:18:23.175098",
     "exception": false,
     "start_time": "2021-10-17T20:18:01.504186",
     "status": "completed"
    },
    "tags": []
   },
   "outputs": [],
   "source": [
    "PATH = '/kaggle/working/static_asl_rgb.pth'\n",
    "torch.save(net.state_dict(), PATH)"
   ]
  },
  {
   "cell_type": "code",
   "execution_count": 18,
   "id": "1305dd8c",
   "metadata": {
    "execution": {
     "iopub.execute_input": "2021-10-17T20:19:07.184365Z",
     "iopub.status.busy": "2021-10-17T20:19:07.182710Z",
     "iopub.status.idle": "2021-10-17T20:19:07.184957Z",
     "shell.execute_reply": "2021-10-17T20:19:07.185344Z",
     "shell.execute_reply.started": "2021-10-17T08:36:08.445148Z"
    },
    "papermill": {
     "duration": 21.9698,
     "end_time": "2021-10-17T20:19:07.185500",
     "exception": false,
     "start_time": "2021-10-17T20:18:45.215700",
     "status": "completed"
    },
    "tags": []
   },
   "outputs": [],
   "source": [
    "def test(net, dataloader):\n",
    "    correct = 0\n",
    "    total = 0\n",
    "\n",
    "    with torch.no_grad():\n",
    "        for data in dataloader:\n",
    "            images, labels = data[0].to(DEVICE), data[1].to(DEVICE)\n",
    "\n",
    "            outputs = net(images)\n",
    "\n",
    "            _, predicted = torch.max(outputs.data, 1)\n",
    "\n",
    "            total += labels.size(0)\n",
    "            correct += (predicted == labels).sum().item()\n",
    "    print_count(total, correct)\n",
    "    print('Better than random: {}'.format(100 * 1 / 28 < (100 * correct / total)))"
   ]
  },
  {
   "cell_type": "code",
   "execution_count": 19,
   "id": "40d09c3f",
   "metadata": {
    "execution": {
     "iopub.execute_input": "2021-10-17T20:19:51.148047Z",
     "iopub.status.busy": "2021-10-17T20:19:51.147159Z",
     "iopub.status.idle": "2021-10-17T20:19:51.252111Z",
     "shell.execute_reply": "2021-10-17T20:19:51.252498Z",
     "shell.execute_reply.started": "2021-10-17T08:38:14.035003Z"
    },
    "papermill": {
     "duration": 22.172574,
     "end_time": "2021-10-17T20:19:51.252655",
     "exception": false,
     "start_time": "2021-10-17T20:19:29.080081",
     "status": "completed"
    },
    "tags": []
   },
   "outputs": [
    {
     "name": "stdout",
     "output_type": "stream",
     "text": [
      "Total   : 28\n",
      "Correct : 26\n",
      "Accuracy:  92.857\n",
      "Better than random: True\n"
     ]
    }
   ],
   "source": [
    "test(net, test_dataloader)"
   ]
  },
  {
   "cell_type": "code",
   "execution_count": null,
   "id": "434bfbb8",
   "metadata": {
    "papermill": {
     "duration": 21.815293,
     "end_time": "2021-10-17T20:20:35.310080",
     "exception": false,
     "start_time": "2021-10-17T20:20:13.494787",
     "status": "completed"
    },
    "tags": []
   },
   "outputs": [],
   "source": []
  }
 ],
 "metadata": {
  "kernelspec": {
   "display_name": "Python 3",
   "language": "python",
   "name": "python3"
  },
  "language_info": {
   "codemirror_mode": {
    "name": "ipython",
    "version": 3
   },
   "file_extension": ".py",
   "mimetype": "text/x-python",
   "name": "python",
   "nbconvert_exporter": "python",
   "pygments_lexer": "ipython3",
   "version": "3.7.10"
  },
  "papermill": {
   "default_parameters": {},
   "duration": 20342.376712,
   "end_time": "2021-10-17T20:20:59.532809",
   "environment_variables": {},
   "exception": null,
   "input_path": "__notebook__.ipynb",
   "output_path": "__notebook__.ipynb",
   "parameters": {},
   "start_time": "2021-10-17T14:41:57.156097",
   "version": "2.3.3"
  }
 },
 "nbformat": 4,
 "nbformat_minor": 5
}
